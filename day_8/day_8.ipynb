{
 "cells": [
  {
   "cell_type": "code",
   "execution_count": 1,
   "id": "e68f4e5c",
   "metadata": {},
   "outputs": [
    {
     "name": "stdout",
     "output_type": "stream",
     "text": [
      "99 99\n"
     ]
    }
   ],
   "source": [
    "with open('input.txt', 'r') as f:\n",
    "    _input = f.read().splitlines()\n",
    "fieldWidth = len(_input[0])\n",
    "fieldHeight = len(_input)\n",
    "print(fieldWidth, fieldHeight)"
   ]
  },
  {
   "cell_type": "code",
   "execution_count": 2,
   "id": "1be702bc",
   "metadata": {},
   "outputs": [],
   "source": [
    "def _isVisible():\n",
    "    trees = []\n",
    "\n",
    "    for x in range(1,fieldWidth -1):\n",
    "        for y in range(1, fieldHeight -1):\n",
    "            if _isVisibleTop(x,y) or _isVisibleBot(x,y) or _isVisibleLeft(x,y) or _isVisibleRight(x,y):\n",
    "                trees.append([x,y])\n",
    "    return trees"
   ]
  },
  {
   "cell_type": "code",
   "execution_count": 3,
   "id": "fb7246e1",
   "metadata": {},
   "outputs": [],
   "source": [
    "def _isVisibleBot(x,y):\n",
    "    val = _input[y][x]\n",
    "    trees = [_input[y + i][x] for i in range(1, fieldHeight - y - 1)]\n",
    "    isHigher = [val > tree for tree in trees]\n",
    "    return all(isHigher)"
   ]
  },
  {
   "cell_type": "code",
   "execution_count": 4,
   "id": "4e404e49",
   "metadata": {},
   "outputs": [],
   "source": [
    "def _isVisibleTop(x,y):\n",
    "    val = _input[y][x]\n",
    "    trees = [_input[y - i][x] for i in range(1, y + 1)]\n",
    "    isHigher = [val > tree for tree in trees]\n",
    "    return all(isHigher)"
   ]
  },
  {
   "cell_type": "code",
   "execution_count": 5,
   "id": "5f81791d",
   "metadata": {},
   "outputs": [],
   "source": [
    "def _isVisibleRight(x,y):\n",
    "    val = _input[y][x]\n",
    "    trees = [_input[y][x - i] for i in range(1, x + 1)]\n",
    "    isHigher = [val > tree for tree in trees]\n",
    "    return all(isHigher)"
   ]
  },
  {
   "cell_type": "code",
   "execution_count": 6,
   "id": "38d319ea",
   "metadata": {},
   "outputs": [],
   "source": [
    "def _isVisibleLeft(x,y):\n",
    "    val = _input[y][x]\n",
    "    trees = [_input[y][x + i] for i in range(1, fieldWidth - x -1)]\n",
    "    isHigher = [val > tree for tree in trees]\n",
    "    return all(isHigher)"
   ]
  },
  {
   "cell_type": "code",
   "execution_count": 7,
   "id": "ddf2ca50",
   "metadata": {},
   "outputs": [
    {
     "data": {
      "text/plain": [
       "1492"
      ]
     },
     "execution_count": 7,
     "metadata": {},
     "output_type": "execute_result"
    }
   ],
   "source": [
    "_res = len(_isVisible()) + 99**2 - 98**2\n",
    "_res"
   ]
  },
  {
   "cell_type": "code",
   "execution_count": null,
   "id": "15e4d96f",
   "metadata": {},
   "outputs": [],
   "source": []
  }
 ],
 "metadata": {
  "kernelspec": {
   "display_name": "Python 3 (ipykernel)",
   "language": "python",
   "name": "python3"
  },
  "language_info": {
   "codemirror_mode": {
    "name": "ipython",
    "version": 3
   },
   "file_extension": ".py",
   "mimetype": "text/x-python",
   "name": "python",
   "nbconvert_exporter": "python",
   "pygments_lexer": "ipython3",
   "version": "3.9.7"
  }
 },
 "nbformat": 4,
 "nbformat_minor": 5
}
