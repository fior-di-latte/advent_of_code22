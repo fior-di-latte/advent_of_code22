{
 "cells": [
  {
   "cell_type": "code",
   "execution_count": 6,
   "id": "81679e93",
   "metadata": {},
   "outputs": [],
   "source": [
    "with open('input.txt', 'r') as i:\n",
    "    _input = i.read().splitlines()\n"
   ]
  },
  {
   "cell_type": "code",
   "execution_count": 29,
   "id": "aa51f047",
   "metadata": {},
   "outputs": [],
   "source": [
    "def _splitter(line: str):\n",
    "    split = line.split(',')\n",
    "    return split[0], split[1]\n",
    "    "
   ]
  },
  {
   "cell_type": "code",
   "execution_count": 30,
   "id": "4b304788",
   "metadata": {},
   "outputs": [],
   "source": [
    "def _getSetFromRange(rangeString: str)->set:\n",
    "    left, right  = rangeString.split('-')\n",
    "    left, right = int(left), int(right)\n",
    "    return set(range(left, right+1))"
   ]
  },
  {
   "cell_type": "code",
   "execution_count": 31,
   "id": "9d503e0d",
   "metadata": {},
   "outputs": [],
   "source": [
    "def isThereSuperset(set1: set, set2: set) -> bool: \n",
    "    return set1.issuperset(set2) or set2.issuperset(set1)"
   ]
  },
  {
   "cell_type": "code",
   "execution_count": 32,
   "id": "654ebfd4",
   "metadata": {},
   "outputs": [],
   "source": [
    "def _together(line):\n",
    "    l, r = _splitter(line)\n",
    "    return isThereSuperset(_getSetFromRange(l), _getSetFromRange(r))"
   ]
  },
  {
   "cell_type": "code",
   "execution_count": 33,
   "id": "58c36993",
   "metadata": {},
   "outputs": [
    {
     "data": {
      "text/plain": [
       "462"
      ]
     },
     "execution_count": 33,
     "metadata": {},
     "output_type": "execute_result"
    }
   ],
   "source": [
    "sum([_together(l) for l in _input])"
   ]
  },
  {
   "cell_type": "code",
   "execution_count": 37,
   "id": "165b0c83",
   "metadata": {},
   "outputs": [],
   "source": [
    "def isThereOverlap(set1: set, set2: set) -> bool:\n",
    "    return True if set1.intersection(set2) else False"
   ]
  },
  {
   "cell_type": "code",
   "execution_count": 38,
   "id": "0545d0bc",
   "metadata": {},
   "outputs": [],
   "source": [
    "def _together2(line):\n",
    "    l, r = _splitter(line)\n",
    "    return isThereOverlap(_getSetFromRange(l), _getSetFromRange(r))"
   ]
  },
  {
   "cell_type": "code",
   "execution_count": 39,
   "id": "2d7d942d",
   "metadata": {},
   "outputs": [
    {
     "data": {
      "text/plain": [
       "835"
      ]
     },
     "execution_count": 39,
     "metadata": {},
     "output_type": "execute_result"
    }
   ],
   "source": [
    "sum([_together2(l) for l in _input])"
   ]
  },
  {
   "cell_type": "code",
   "execution_count": null,
   "id": "0b40e872",
   "metadata": {},
   "outputs": [],
   "source": []
  }
 ],
 "metadata": {
  "kernelspec": {
   "display_name": "Python 3 (ipykernel)",
   "language": "python",
   "name": "python3"
  },
  "language_info": {
   "codemirror_mode": {
    "name": "ipython",
    "version": 3
   },
   "file_extension": ".py",
   "mimetype": "text/x-python",
   "name": "python",
   "nbconvert_exporter": "python",
   "pygments_lexer": "ipython3",
   "version": "3.9.7"
  }
 },
 "nbformat": 4,
 "nbformat_minor": 5
}
